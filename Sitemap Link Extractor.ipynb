{
 "cells": [
  {
   "cell_type": "code",
   "execution_count": 3,
   "metadata": {},
   "outputs": [],
   "source": [
    "import requests\n",
    "import xml.etree.ElementTree as ET\n",
    "\n",
    "def extract_urls_from_sitemap(url):\n",
    "    try:\n",
    "        response = requests.get(url)\n",
    "        if response.status_code == 200:\n",
    "            root = ET.fromstring(response.content)\n",
    "            urls = []\n",
    "            for url_elem in root.findall('.//{http://www.sitemaps.org/schemas/sitemap/0.9}url'):\n",
    "                loc = url_elem.find('{http://www.sitemaps.org/schemas/sitemap/0.9}loc').text\n",
    "                urls.append(loc)\n",
    "            return urls\n",
    "        else:\n",
    "            print(\"Failed to retrieve sitemap. Status code:\", response.status_code)\n",
    "            return None\n",
    "    except requests.exceptions.RequestException as e:\n",
    "        print(\"Error:\", e)\n",
    "        return None\n",
    "\n",
    "# Example URL of the sitemap\n",
    "sitemap_url = \"https://www.goodfirms.co/sitemap-service-profile-1.xml\"\n",
    "\n",
    "# Extract URLs\n",
    "sitemap_urls = extract_urls_from_sitemap(sitemap_url)\n"
   ]
  },
  {
   "cell_type": "code",
   "execution_count": 4,
   "metadata": {},
   "outputs": [],
   "source": [
    "lst=[]\n",
    "for i in list(range(1,21)):\n",
    "    sitemap_url=f\"https://www.goodfirms.co/sitemap-service-profile-{i}.xml\"\n",
    "    sitemap_urls=extract_urls_from_sitemap(sitemap_url)\n",
    "    lst.append(sitemap_urls)"
   ]
  },
  {
   "cell_type": "code",
   "execution_count": 5,
   "metadata": {},
   "outputs": [
    {
     "data": {
      "text/plain": [
       "95925"
      ]
     },
     "execution_count": 5,
     "metadata": {},
     "output_type": "execute_result"
    }
   ],
   "source": [
    "final_list=[item for sublist in lst for item in sublist]\n",
    "len(final_list)"
   ]
  },
  {
   "cell_type": "code",
   "execution_count": 6,
   "metadata": {},
   "outputs": [],
   "source": [
    "final_list=list(set(final_list))"
   ]
  },
  {
   "cell_type": "code",
   "execution_count": 7,
   "metadata": {},
   "outputs": [
    {
     "data": {
      "text/plain": [
       "95891"
      ]
     },
     "execution_count": 7,
     "metadata": {},
     "output_type": "execute_result"
    }
   ],
   "source": [
    "len(final_list)"
   ]
  },
  {
   "cell_type": "code",
   "execution_count": 14,
   "metadata": {},
   "outputs": [
    {
     "data": {
      "text/html": [
       "<div>\n",
       "<style scoped>\n",
       "    .dataframe tbody tr th:only-of-type {\n",
       "        vertical-align: middle;\n",
       "    }\n",
       "\n",
       "    .dataframe tbody tr th {\n",
       "        vertical-align: top;\n",
       "    }\n",
       "\n",
       "    .dataframe thead th {\n",
       "        text-align: right;\n",
       "    }\n",
       "</style>\n",
       "<table border=\"1\" class=\"dataframe\">\n",
       "  <thead>\n",
       "    <tr style=\"text-align: right;\">\n",
       "      <th></th>\n",
       "      <th>COMPANY_NAME</th>\n",
       "    </tr>\n",
       "  </thead>\n",
       "  <tbody>\n",
       "    <tr>\n",
       "      <th>0</th>\n",
       "      <td>rex</td>\n",
       "    </tr>\n",
       "    <tr>\n",
       "      <th>1</th>\n",
       "      <td>accent-tel-usa</td>\n",
       "    </tr>\n",
       "    <tr>\n",
       "      <th>2</th>\n",
       "      <td>steele-game-studios</td>\n",
       "    </tr>\n",
       "    <tr>\n",
       "      <th>3</th>\n",
       "      <td>awl-india-warehouse-provider</td>\n",
       "    </tr>\n",
       "    <tr>\n",
       "      <th>4</th>\n",
       "      <td>american-nevada</td>\n",
       "    </tr>\n",
       "    <tr>\n",
       "      <th>...</th>\n",
       "      <td>...</td>\n",
       "    </tr>\n",
       "    <tr>\n",
       "      <th>95886</th>\n",
       "      <td>strategic-growth-advisors-llc</td>\n",
       "    </tr>\n",
       "    <tr>\n",
       "      <th>95887</th>\n",
       "      <td>claimaid</td>\n",
       "    </tr>\n",
       "    <tr>\n",
       "      <th>95888</th>\n",
       "      <td>artefakt</td>\n",
       "    </tr>\n",
       "    <tr>\n",
       "      <th>95889</th>\n",
       "      <td>web3-online-marketing-group</td>\n",
       "    </tr>\n",
       "    <tr>\n",
       "      <th>95890</th>\n",
       "      <td>varun-digital-media</td>\n",
       "    </tr>\n",
       "  </tbody>\n",
       "</table>\n",
       "<p>95891 rows × 1 columns</p>\n",
       "</div>"
      ],
      "text/plain": [
       "                        COMPANY_NAME\n",
       "0                                rex\n",
       "1                     accent-tel-usa\n",
       "2                steele-game-studios\n",
       "3       awl-india-warehouse-provider\n",
       "4                    american-nevada\n",
       "...                              ...\n",
       "95886  strategic-growth-advisors-llc\n",
       "95887                       claimaid\n",
       "95888                       artefakt\n",
       "95889    web3-online-marketing-group\n",
       "95890            varun-digital-media\n",
       "\n",
       "[95891 rows x 1 columns]"
      ]
     },
     "execution_count": 14,
     "metadata": {},
     "output_type": "execute_result"
    }
   ],
   "source": [
    "import pandas as pd\n",
    "dff=pd.DataFrame(final_list,columns=['COMPANY_NAME'])\n",
    "dff['COMPANY_NAME']=dff['COMPANY_NAME'].str.replace('https://www.goodfirms.co/company/','')\n",
    "dff"
   ]
  },
  {
   "cell_type": "code",
   "execution_count": 17,
   "metadata": {},
   "outputs": [],
   "source": [
    "start_value = 7770000001\n",
    "uids = [start_value + i for i in range(len(dff))]\n",
    "dff['UID'] = uids"
   ]
  },
  {
   "cell_type": "code",
   "execution_count": 19,
   "metadata": {},
   "outputs": [],
   "source": [
    "dff.to_excel(r'GF FINAL COMPANY 90K.xlsx',index=False)"
   ]
  },
  {
   "cell_type": "code",
   "execution_count": null,
   "metadata": {},
   "outputs": [],
   "source": []
  }
 ],
 "metadata": {
  "kernelspec": {
   "display_name": "ws",
   "language": "python",
   "name": "python3"
  },
  "language_info": {
   "codemirror_mode": {
    "name": "ipython",
    "version": 3
   },
   "file_extension": ".py",
   "mimetype": "text/x-python",
   "name": "python",
   "nbconvert_exporter": "python",
   "pygments_lexer": "ipython3",
   "version": "3.11.5"
  }
 },
 "nbformat": 4,
 "nbformat_minor": 2
}
