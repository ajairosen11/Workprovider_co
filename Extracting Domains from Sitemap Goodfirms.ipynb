{
 "cells": [
  {
   "cell_type": "code",
   "execution_count": 1,
   "metadata": {},
   "outputs": [],
   "source": [
    "import pandas as pd\n",
    "from googlesearch import search"
   ]
  },
  {
   "cell_type": "code",
   "execution_count": 2,
   "metadata": {},
   "outputs": [],
   "source": [
    "def get_first_google_url(keyword):\n",
    "    try:\n",
    "        search_results = search(keyword, num_results=1)  # Perform Google search with specified parameters\n",
    "        first_url = next(search_results)  # Get the first URL from search results\n",
    "        return first_url\n",
    "    except Exception as e:\n",
    "        print(\"An error occurred:\", e)\n",
    "        return None"
   ]
  },
  {
   "cell_type": "code",
   "execution_count": 7,
   "metadata": {},
   "outputs": [],
   "source": [
    "data=pd.read_excel(r'companies72.xlsx')\n",
    "lst=data['DOMAIN'].to_list()"
   ]
  },
  {
   "cell_type": "code",
   "execution_count": 8,
   "metadata": {},
   "outputs": [
    {
     "name": "stdout",
     "output_type": "stream",
     "text": [
      "https://www.goodfirms.co/company/the-go-to-guy\n",
      "https://www.goodfirms.co/company/what-a-story\n",
      "https://www.goodfirms.co/directory/marketing-services/top-digital-marketing-companies?page=121&ref=blog.arfadia.com\n",
      "https://www.goodfirms.co/directory/platforms/top-web-design-companies?page=357&sort_by=1\n",
      "https://www.goodfirms.co/company/strawberry-branding\n",
      "https://www.goodfirms.co/company/fractional-cmo\n",
      "https://www.goodfirms.co/company/keen-digital-services\n",
      "https://www.goodfirms.co/company/the-mosol9\n",
      "https://www.goodfirms.co/company/inovies\n",
      "https://www.goodfirms.co/company/paraminfo\n",
      "https://www.goodfirms.co/company/iconquerors\n",
      "https://www.goodfirms.co/seo-agencies?page=381&ref=seoptimer\n",
      "https://www.goodfirms.co/company/the-next-big-thing\n",
      "https://www.goodfirms.co/company/creative-solutions\n",
      "https://www.goodfirms.co/company/purplesyntax-com\n",
      "https://www.goodfirms.co/company/catalyst-marketing-agency\n",
      "https://www.goodfirms.co/companies/web-development-agency/law-firms?page=37\n",
      "https://www.goodfirms.co/companies/web-development-agency/wordpress?page=85\n",
      "https://www.goodfirms.co/business-services?page=2\n",
      "https://www.goodfirms.co/company/webhelp-agency\n",
      "https://www.goodfirms.co/company/social-dna\n",
      "https://www.goodfirms.co/company/kloudportal-technology-solutions-pvt-ltd\n",
      "https://www.goodfirms.co/company/vihaan-digital-marketing\n",
      "https://www.goodfirms.co/\n",
      "https://www.goodfirms.co/\n",
      "https://www.goodfirms.co/companies/web-development-agency?location%5B12%5D=bd&sort_by=Any&page=182\n",
      "https://www.goodfirms.co/company/ingenious-advertise\n",
      "https://www.goodfirms.co/company/the-go-to-guy\n",
      "https://www.goodfirms.co/company/uxreactor\n",
      "https://www.goodfirms.co/company/dotcomweavers\n",
      "https://www.goodfirms.co/company/mutual-mobile\n",
      "https://www.goodfirms.co/directory/languages/top-software-development-companies/java?page=18\n",
      "https://www.goodfirms.co/company/tvisha-technologies-inc\n",
      "https://www.goodfirms.co/company/devathon\n",
      "https://www.goodfirms.co/directory/platforms/top-web-design-companies?page=357&sort_by=1\n",
      "https://www.goodfirms.co/implementation-services/salesforce\n",
      "https://www.goodfirms.co/company/keen-digital-services\n",
      "https://www.goodfirms.co/company/slashmonk\n",
      "https://www.goodfirms.co/company/inovies\n",
      "https://www.goodfirms.co/company/paraminfo\n",
      "https://www.goodfirms.co/company/iconquerors\n",
      "https://www.goodfirms.co/company/caffeine-ux\n",
      "https://www.goodfirms.co/company/micropyramid-informatics-pvt-ltd\n",
      "https://www.goodfirms.co/company/navtech\n",
      "https://www.goodfirms.co/seo-agencies?page=381&ref=seoptimer\n",
      "https://www.goodfirms.co/company/creative-solutions\n",
      "https://www.goodfirms.co/company/enterpi\n",
      "https://www.goodfirms.co/company/nice-digitals\n",
      "https://www.goodfirms.co/directory/services/top-web-design-companies/digital\n",
      "https://www.goodfirms.co/company/ideas-to-advertise\n",
      "https://www.goodfirms.co/company/digisocial-limited\n",
      "https://digilitics.in/\n",
      "https://www.goodfirms.co/company/social-dna\n",
      "https://www.goodfirms.co/company/kloudportal-technology-solutions-pvt-ltd\n",
      "https://www.goodfirms.co/\n",
      "https://www.goodfirms.co/\n",
      "https://www.goodfirms.co/companies/web-development-agency?location%5B12%5D=bd&sort_by=Any&page=182\n",
      "https://www.goodfirms.co/company/dotcomweavers\n",
      "https://www.goodfirms.co/directory/platforms/top-web-design-companies?page=357&sort_by=1\n",
      "https://www.goodfirms.co/company/knack-systems\n",
      "https://www.goodfirms.co/company/slashmonk\n",
      "https://www.goodfirms.co/company/paraminfo\n",
      "https://www.goodfirms.co/company/navtech\n",
      "https://www.goodfirms.co/seo-agencies?page=381&ref=seoptimer\n",
      "https://www.goodfirms.co/company/creative-solutions\n",
      "https://www.goodfirms.co/company/tech-cloud-erp\n",
      "https://www.goodfirms.co/company/enterpi\n",
      "https://www.goodfirms.co/company/pegalogics-solutions\n",
      "https://www.goodfirms.co/companies/web-development-agency?location%5B12%5D=bd&sort_by=Any&page=182\n",
      "https://www.goodfirms.co/\n",
      "https://www.goodfirms.co/company/scaleupally\n"
     ]
    }
   ],
   "source": [
    "urls=[]\n",
    "for i in lst:\n",
    "    keyword=i+'goodfirms'\n",
    "    first_url = get_first_google_url(keyword)\n",
    "    print(first_url)\n",
    "    urls.append(first_url)"
   ]
  },
  {
   "cell_type": "code",
   "execution_count": 6,
   "metadata": {},
   "outputs": [
    {
     "data": {
      "text/plain": [
       "<bound method IndexOpsMixin.tolist of 0                            The Go-To Guy\n",
       "1                             What a Story\n",
       "2                            Orange Carrot\n",
       "3                               TA Digital\n",
       "4                      Strawberry Branding\n",
       "                      ...                 \n",
       "66    Enterpi Software Solutions Pvt. Ltd.\n",
       "67                              PegaLogics\n",
       "68                        Amplus Solutions\n",
       "69                                 F9 TECH\n",
       "70                             Scale Minds\n",
       "Name: DOMAIN, Length: 71, dtype: object>"
      ]
     },
     "execution_count": 6,
     "metadata": {},
     "output_type": "execute_result"
    }
   ],
   "source": [
    "lst"
   ]
  },
  {
   "cell_type": "code",
   "execution_count": 9,
   "metadata": {},
   "outputs": [],
   "source": [
    "df=pd.DataFrame({'COMPANY URL':urls,'COMPANY':lst})"
   ]
  },
  {
   "cell_type": "code",
   "execution_count": 10,
   "metadata": {},
   "outputs": [
    {
     "data": {
      "text/html": [
       "<div>\n",
       "<style scoped>\n",
       "    .dataframe tbody tr th:only-of-type {\n",
       "        vertical-align: middle;\n",
       "    }\n",
       "\n",
       "    .dataframe tbody tr th {\n",
       "        vertical-align: top;\n",
       "    }\n",
       "\n",
       "    .dataframe thead th {\n",
       "        text-align: right;\n",
       "    }\n",
       "</style>\n",
       "<table border=\"1\" class=\"dataframe\">\n",
       "  <thead>\n",
       "    <tr style=\"text-align: right;\">\n",
       "      <th></th>\n",
       "      <th>COMPANY URL</th>\n",
       "      <th>COMPANY</th>\n",
       "    </tr>\n",
       "  </thead>\n",
       "  <tbody>\n",
       "    <tr>\n",
       "      <th>0</th>\n",
       "      <td>https://www.goodfirms.co/company/the-go-to-guy</td>\n",
       "      <td>The Go-To Guy</td>\n",
       "    </tr>\n",
       "    <tr>\n",
       "      <th>1</th>\n",
       "      <td>https://www.goodfirms.co/company/what-a-story</td>\n",
       "      <td>What a Story</td>\n",
       "    </tr>\n",
       "    <tr>\n",
       "      <th>2</th>\n",
       "      <td>https://www.goodfirms.co/directory/marketing-s...</td>\n",
       "      <td>Orange Carrot</td>\n",
       "    </tr>\n",
       "    <tr>\n",
       "      <th>3</th>\n",
       "      <td>https://www.goodfirms.co/directory/platforms/t...</td>\n",
       "      <td>TA Digital</td>\n",
       "    </tr>\n",
       "    <tr>\n",
       "      <th>4</th>\n",
       "      <td>https://www.goodfirms.co/company/strawberry-br...</td>\n",
       "      <td>Strawberry Branding</td>\n",
       "    </tr>\n",
       "    <tr>\n",
       "      <th>...</th>\n",
       "      <td>...</td>\n",
       "      <td>...</td>\n",
       "    </tr>\n",
       "    <tr>\n",
       "      <th>66</th>\n",
       "      <td>https://www.goodfirms.co/company/enterpi</td>\n",
       "      <td>Enterpi Software Solutions Pvt. Ltd.</td>\n",
       "    </tr>\n",
       "    <tr>\n",
       "      <th>67</th>\n",
       "      <td>https://www.goodfirms.co/company/pegalogics-so...</td>\n",
       "      <td>PegaLogics</td>\n",
       "    </tr>\n",
       "    <tr>\n",
       "      <th>68</th>\n",
       "      <td>https://www.goodfirms.co/companies/web-develop...</td>\n",
       "      <td>Amplus Solutions</td>\n",
       "    </tr>\n",
       "    <tr>\n",
       "      <th>69</th>\n",
       "      <td>https://www.goodfirms.co/</td>\n",
       "      <td>F9 TECH</td>\n",
       "    </tr>\n",
       "    <tr>\n",
       "      <th>70</th>\n",
       "      <td>https://www.goodfirms.co/company/scaleupally</td>\n",
       "      <td>Scale Minds</td>\n",
       "    </tr>\n",
       "  </tbody>\n",
       "</table>\n",
       "<p>71 rows × 2 columns</p>\n",
       "</div>"
      ],
      "text/plain": [
       "                                          COMPANY URL  \\\n",
       "0      https://www.goodfirms.co/company/the-go-to-guy   \n",
       "1       https://www.goodfirms.co/company/what-a-story   \n",
       "2   https://www.goodfirms.co/directory/marketing-s...   \n",
       "3   https://www.goodfirms.co/directory/platforms/t...   \n",
       "4   https://www.goodfirms.co/company/strawberry-br...   \n",
       "..                                                ...   \n",
       "66           https://www.goodfirms.co/company/enterpi   \n",
       "67  https://www.goodfirms.co/company/pegalogics-so...   \n",
       "68  https://www.goodfirms.co/companies/web-develop...   \n",
       "69                          https://www.goodfirms.co/   \n",
       "70       https://www.goodfirms.co/company/scaleupally   \n",
       "\n",
       "                                 COMPANY  \n",
       "0                          The Go-To Guy  \n",
       "1                           What a Story  \n",
       "2                          Orange Carrot  \n",
       "3                             TA Digital  \n",
       "4                    Strawberry Branding  \n",
       "..                                   ...  \n",
       "66  Enterpi Software Solutions Pvt. Ltd.  \n",
       "67                            PegaLogics  \n",
       "68                      Amplus Solutions  \n",
       "69                               F9 TECH  \n",
       "70                           Scale Minds  \n",
       "\n",
       "[71 rows x 2 columns]"
      ]
     },
     "execution_count": 10,
     "metadata": {},
     "output_type": "execute_result"
    }
   ],
   "source": [
    "df"
   ]
  },
  {
   "cell_type": "code",
   "execution_count": 12,
   "metadata": {},
   "outputs": [],
   "source": [
    "df.to_csv('Companies72.csv',index=False)"
   ]
  },
  {
   "cell_type": "code",
   "execution_count": null,
   "metadata": {},
   "outputs": [],
   "source": []
  }
 ],
 "metadata": {
  "kernelspec": {
   "display_name": "ws",
   "language": "python",
   "name": "python3"
  },
  "language_info": {
   "codemirror_mode": {
    "name": "ipython",
    "version": 3
   },
   "file_extension": ".py",
   "mimetype": "text/x-python",
   "name": "python",
   "nbconvert_exporter": "python",
   "pygments_lexer": "ipython3",
   "version": "3.11.5"
  }
 },
 "nbformat": 4,
 "nbformat_minor": 2
}
